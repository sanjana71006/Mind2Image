{
  "nbformat": 4,
  "nbformat_minor": 0,
  "metadata": {
    "colab": {
      "private_outputs": true,
      "provenance": [],
      "gpuType": "T4"
    },
    "kernelspec": {
      "name": "python3",
      "display_name": "Python 3"
    },
    "language_info": {
      "name": "python"
    },
    "accelerator": "GPU"
  },
  "cells": [
    {
      "cell_type": "markdown",
      "source": [
        "IMAGE GENERATION"
      ],
      "metadata": {
        "id": "_NRSibILa3NQ"
      }
    },
    {
      "cell_type": "code",
      "execution_count": null,
      "metadata": {
        "id": "ox5lgXgxajL4"
      },
      "outputs": [],
      "source": [
        "!pip install diffusers\n",
        "\n",
        "from transformers import pipeline\n",
        "import torch\n",
        "from diffusers import DiffusionPipeline\n",
        "\n",
        "generator = DiffusionPipeline.from_pretrained(\"CompVis/stable-diffusion-v1-4\")\n",
        "generator.to(\"cuda\")"
      ]
    },
    {
      "cell_type": "code",
      "source": [
        "prompt = 'Cute white cat with blue eyes'"
      ],
      "metadata": {
        "id": "K-x5S7n9a9I5"
      },
      "execution_count": null,
      "outputs": []
    },
    {
      "cell_type": "code",
      "source": [
        "img = generator(prompt).images[0]"
      ],
      "metadata": {
        "id": "xog7s3EtbAhB"
      },
      "execution_count": null,
      "outputs": []
    },
    {
      "cell_type": "code",
      "source": [
        "img"
      ],
      "metadata": {
        "id": "KUCJS-UTbQQn"
      },
      "execution_count": null,
      "outputs": []
    },
    {
      "cell_type": "markdown",
      "source": [
        "MULTIPLE IMAGES GENERATOR (MIMICKING HUMAN TEXT)"
      ],
      "metadata": {
        "id": "dhgfpWV6dGOr"
      }
    },
    {
      "cell_type": "code",
      "source": [
        "from transformers import pipeline\n",
        "t_g=pipeline('text-generation')"
      ],
      "metadata": {
        "id": "QJXcdVh8cxmA"
      },
      "execution_count": null,
      "outputs": []
    },
    {
      "cell_type": "code",
      "source": [
        "import time\n",
        "from matplotlib import pyplot\n",
        "l = [\"a lonely girl sitting under a streetlamp in the rain\",\n",
        "    \"an astronaut drinking coffee on the moon\",\n",
        "    \"a wise old woman reading a glowing book in the forest\",\n",
        "    \"a futuristic city submerged under water\",\n",
        "    \"a child playing with a robot dog in a garden\",\n",
        "    \"an artist painting the stars on a rooftop at night\",\n",
        "    \"a man walking through a foggy alley lit by neon signs\",\n",
        "    \"a peaceful village floating in the sky\",\n",
        "    \"a cat wearing glasses and reading a newspaper\",\n",
        "    \"a tree growing inside a glass bottle on a table\"\n",
        "]\n",
        "while True:\n",
        "  for i in l:\n",
        "    inp = t_g(i)\n",
        "    img=generator(inp[0]['generated_text']).images[0]\n",
        "    pyplot.imshow(img)\n",
        "    pyplot.show()\n",
        "    time.sleep(1)"
      ],
      "metadata": {
        "id": "uSEGBcFEiVPx"
      },
      "execution_count": null,
      "outputs": []
    }
  ]
}